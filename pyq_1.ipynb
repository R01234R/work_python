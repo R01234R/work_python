{
 "cells": [
  {
   "cell_type": "code",
   "execution_count": 1,
   "metadata": {},
   "outputs": [
    {
     "name": "stdout",
     "output_type": "stream",
     "text": [
      "健康診断のお知らせ\n",
      "佐藤さん\n",
      "下記の通り、健康診断を実施します。\n",
      "5月21日13:00から\n",
      "木田診療所で行います。\n",
      "実施項目は、身長・体重・視力測定、聴診、血液検査です。\n"
     ]
    }
   ],
   "source": [
    "name = '佐藤'\n",
    "\n",
    "# ここで変数dateに、日付「5月21日」を代入\n",
    "'5月21日'\n",
    "date = '5月21日'\n",
    "\n",
    "# 時間\n",
    "time = '13:00'\n",
    "\n",
    "# 表示\n",
    "print('健康診断のお知らせ')\n",
    "\n",
    "# ここに「佐藤さん」と表示\n",
    "print(name + 'さん')\n",
    "\n",
    "print('下記の通り、健康診断を実施します。')\n",
    "\n",
    "# ここに「5月21日13:00から」と表示\n",
    "print(date + time + 'から')\n",
    "\n",
    "print('木田診療所で行います。')\n",
    "print('実施項目は、身長・体重・視力測定、聴診、血液検査です。')"
   ]
  },
  {
   "cell_type": "code",
   "execution_count": null,
   "metadata": {},
   "outputs": [],
   "source": []
  }
 ],
 "metadata": {
  "kernelspec": {
   "display_name": "Python 3",
   "language": "python",
   "name": "python3"
  },
  "language_info": {
   "codemirror_mode": {
    "name": "ipython",
    "version": 3
   },
   "file_extension": ".py",
   "mimetype": "text/x-python",
   "name": "python",
   "nbconvert_exporter": "python",
   "pygments_lexer": "ipython3",
   "version": "3.7.4"
  }
 },
 "nbformat": 4,
 "nbformat_minor": 2
}
